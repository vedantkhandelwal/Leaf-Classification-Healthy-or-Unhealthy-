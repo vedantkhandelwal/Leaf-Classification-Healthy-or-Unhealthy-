{
 "cells": [
  {
   "cell_type": "code",
   "execution_count": null,
   "metadata": {},
   "outputs": [],
   "source": [
    "# Part 1 - Building the CNN"
   ]
  },
  {
   "cell_type": "code",
   "execution_count": null,
   "metadata": {},
   "outputs": [],
   "source": [
    "# Convolutional Neural Network\n",
    "\n",
    "# Installing Tensorflow\n",
    "# pip install tensorflow\n",
    "\n",
    "# Installing Keras\n",
    "# pip install --upgrade keras"
   ]
  },
  {
   "cell_type": "code",
   "execution_count": null,
   "metadata": {},
   "outputs": [],
   "source": [
    "# Importing the Keras libraries and packages\n",
    "from keras import backend as K \n",
    "K.tensorflow_backend._get_available_gpus()\n",
    "from keras.models import Sequential\n",
    "from keras.layers import Conv2D\n",
    "from keras.layers import MaxPooling2D\n",
    "from keras.layers import Flatten\n",
    "from keras.layers import Dense\n",
    "\n",
    "import PIL.Image"
   ]
  },
  {
   "cell_type": "code",
   "execution_count": null,
   "metadata": {},
   "outputs": [],
   "source": [
    "# Part 1 - Building the CNN"
   ]
  },
  {
   "cell_type": "code",
   "execution_count": null,
   "metadata": {},
   "outputs": [],
   "source": [
    "# Initialising the CNN\n",
    "classifier = Sequential()"
   ]
  },
  {
   "cell_type": "code",
   "execution_count": null,
   "metadata": {},
   "outputs": [],
   "source": [
    "# Step 1 - Convolution\n",
    "classifier.add(Conv2D(32, (3, 3), input_shape = (64, 64, 3), activation = 'relu'))"
   ]
  },
  {
   "cell_type": "code",
   "execution_count": null,
   "metadata": {},
   "outputs": [],
   "source": [
    "# Step 2 - Pooling\n",
    "classifier.add(MaxPooling2D(pool_size = (2, 2)))"
   ]
  },
  {
   "cell_type": "code",
   "execution_count": null,
   "metadata": {},
   "outputs": [],
   "source": [
    "# Adding a second convolutional layer\n",
    "classifier.add(Conv2D(32, (3, 3), activation = 'relu'))\n",
    "classifier.add(MaxPooling2D(pool_size = (2, 2)))"
   ]
  },
  {
   "cell_type": "code",
   "execution_count": null,
   "metadata": {},
   "outputs": [],
   "source": [
    "# Step 3 - Flattening\n",
    "classifier.add(Flatten())"
   ]
  },
  {
   "cell_type": "code",
   "execution_count": null,
   "metadata": {},
   "outputs": [],
   "source": [
    "# Step 4 - Full connection\n",
    "classifier.add(Dense(units = 128, activation = 'relu'))\n",
    "classifier.add(Dense(units = 1, activation = 'sigmoid'))"
   ]
  },
  {
   "cell_type": "code",
   "execution_count": null,
   "metadata": {},
   "outputs": [],
   "source": [
    "# Compiling the CNN\n",
    "classifier.compile(optimizer = 'adam', loss = 'binary_crossentropy', metrics = ['accuracy'])"
   ]
  },
  {
   "cell_type": "code",
   "execution_count": null,
   "metadata": {},
   "outputs": [],
   "source": [
    "# Part 2 - Fitting the CNN to the images"
   ]
  },
  {
   "cell_type": "code",
   "execution_count": null,
   "metadata": {},
   "outputs": [],
   "source": [
    "from keras.preprocessing.image import ImageDataGenerator"
   ]
  },
  {
   "cell_type": "code",
   "execution_count": null,
   "metadata": {},
   "outputs": [],
   "source": [
    "train_datagen = ImageDataGenerator(rescale = 1./255,\n",
    "                                   shear_range = 0.2,\n",
    "                                   zoom_range = 0.2,\n",
    "                                   horizontal_flip = True)"
   ]
  },
  {
   "cell_type": "code",
   "execution_count": null,
   "metadata": {},
   "outputs": [],
   "source": [
    "test_datagen = ImageDataGenerator(rescale = 1./255)"
   ]
  },
  {
   "cell_type": "code",
   "execution_count": null,
   "metadata": {},
   "outputs": [],
   "source": [
    "training_set = train_datagen.flow_from_directory('dataset/training_set',\n",
    "                                                 target_size = (64, 64),\n",
    "                                                 batch_size = 32,\n",
    "                                                 class_mode = 'binary')"
   ]
  },
  {
   "cell_type": "code",
   "execution_count": null,
   "metadata": {},
   "outputs": [],
   "source": [
    "test_set = test_datagen.flow_from_directory('dataset/test_set',\n",
    "                                            target_size = (64, 64),\n",
    "                                            batch_size = 32,\n",
    "                                            class_mode = 'binary')"
   ]
  },
  {
   "cell_type": "code",
   "execution_count": 1,
   "metadata": {},
   "outputs": [
    {
     "name": "stderr",
     "output_type": "stream",
     "text": [
      "Using TensorFlow backend.\n"
     ]
    },
    {
     "name": "stdout",
     "output_type": "stream",
     "text": [
      "Found 38035 images belonging to 2 classes.\n",
      "Found 16270 images belonging to 2 classes.\n",
      "Epoch 1/30\n",
      "10000/10000 [==============================] - 2839s 284ms/step - loss: 0.1256 - acc: 0.9489 - val_loss: 0.0402 - val_acc: 0.9861\n",
      "Epoch 2/30\n",
      "10000/10000 [==============================] - 1340s 134ms/step - loss: 0.0349 - acc: 0.9875 - val_loss: 0.0346 - val_acc: 0.9878\n",
      "Epoch 3/30\n",
      "10000/10000 [==============================] - 1360s 136ms/step - loss: 0.0210 - acc: 0.9928 - val_loss: 0.0295 - val_acc: 0.9918\n",
      "Epoch 4/30\n",
      "10000/10000 [==============================] - 1357s 136ms/step - loss: 0.0165 - acc: 0.9946 - val_loss: 0.0371 - val_acc: 0.9898\n",
      "Epoch 5/30\n",
      "10000/10000 [==============================] - 1364s 136ms/step - loss: 0.0130 - acc: 0.9958 - val_loss: 0.0363 - val_acc: 0.9903\n",
      "Epoch 6/30\n",
      "10000/10000 [==============================] - 1358s 136ms/step - loss: 0.0108 - acc: 0.9966 - val_loss: 0.0615 - val_acc: 0.9855\n",
      "Epoch 7/30\n",
      "10000/10000 [==============================] - 1366s 137ms/step - loss: 0.0097 - acc: 0.9971 - val_loss: 0.0385 - val_acc: 0.9918\n",
      "Epoch 8/30\n",
      "10000/10000 [==============================] - 1357s 136ms/step - loss: 0.0086 - acc: 0.9974 - val_loss: 0.0371 - val_acc: 0.9922\n",
      "Epoch 9/30\n",
      "10000/10000 [==============================] - 1353s 135ms/step - loss: 0.0081 - acc: 0.9977 - val_loss: 0.0305 - val_acc: 0.9935\n",
      "Epoch 10/30\n",
      "10000/10000 [==============================] - 1438s 144ms/step - loss: 0.0073 - acc: 0.9980 - val_loss: 0.0428 - val_acc: 0.9915\n",
      "Epoch 11/30\n",
      "10000/10000 [==============================] - 1534s 153ms/step - loss: 0.0069 - acc: 0.9981 - val_loss: 0.0382 - val_acc: 0.9924\n",
      "Epoch 12/30\n",
      "10000/10000 [==============================] - 1387s 139ms/step - loss: 0.0063 - acc: 0.9983 - val_loss: 0.0434 - val_acc: 0.9918\n",
      "Epoch 13/30\n",
      "10000/10000 [==============================] - 1367s 137ms/step - loss: 0.0061 - acc: 0.9983 - val_loss: 0.0467 - val_acc: 0.9905\n",
      "Epoch 14/30\n",
      "10000/10000 [==============================] - 1362s 136ms/step - loss: 0.0058 - acc: 0.9985 - val_loss: 0.0461 - val_acc: 0.9921\n",
      "Epoch 15/30\n",
      "10000/10000 [==============================] - 1379s 138ms/step - loss: 0.0059 - acc: 0.9984 - val_loss: 0.0420 - val_acc: 0.9911\n",
      "Epoch 16/30\n",
      "10000/10000 [==============================] - 1415s 141ms/step - loss: 0.0050 - acc: 0.9987 - val_loss: 0.0379 - val_acc: 0.9923\n",
      "Epoch 17/30\n",
      "10000/10000 [==============================] - 1369s 137ms/step - loss: 0.0049 - acc: 0.9987 - val_loss: 0.0410 - val_acc: 0.9929\n",
      "Epoch 18/30\n",
      "10000/10000 [==============================] - 1355s 135ms/step - loss: 0.0047 - acc: 0.9988 - val_loss: 0.0521 - val_acc: 0.9922\n",
      "Epoch 19/30\n",
      "10000/10000 [==============================] - 1361s 136ms/step - loss: 0.0044 - acc: 0.9989 - val_loss: 0.0388 - val_acc: 0.9930\n",
      "Epoch 20/30\n",
      "10000/10000 [==============================] - 1363s 136ms/step - loss: 0.0048 - acc: 0.9988 - val_loss: 0.0475 - val_acc: 0.9921\n",
      "Epoch 21/30\n",
      "10000/10000 [==============================] - 1367s 137ms/step - loss: 0.0049 - acc: 0.9989 - val_loss: 0.0380 - val_acc: 0.9941\n",
      "Epoch 22/30\n",
      "10000/10000 [==============================] - 1362s 136ms/step - loss: 0.0049 - acc: 0.9988 - val_loss: 0.0353 - val_acc: 0.9940\n",
      "Epoch 23/30\n",
      "10000/10000 [==============================] - 9771s 977ms/step - loss: 0.0043 - acc: 0.9989 - val_loss: 0.0434 - val_acc: 0.9930\n",
      "Epoch 24/30\n",
      "10000/10000 [==============================] - 1365s 137ms/step - loss: 0.0044 - acc: 0.9990 - val_loss: 0.0486 - val_acc: 0.9913\n",
      "Epoch 25/30\n",
      "10000/10000 [==============================] - 1376s 138ms/step - loss: 0.0045 - acc: 0.9990 - val_loss: 0.0407 - val_acc: 0.9926\n",
      "Epoch 26/30\n",
      "10000/10000 [==============================] - 8212s 821ms/step - loss: 0.0043 - acc: 0.9990 - val_loss: 0.0441 - val_acc: 0.9926\n",
      "Epoch 27/30\n",
      "10000/10000 [==============================] - 1359s 136ms/step - loss: 0.0044 - acc: 0.9991 - val_loss: 0.0318 - val_acc: 0.9944\n",
      "Epoch 28/30\n",
      "10000/10000 [==============================] - 1366s 137ms/step - loss: 0.0048 - acc: 0.9990 - val_loss: 0.0377 - val_acc: 0.9939\n",
      "Epoch 29/30\n",
      "10000/10000 [==============================] - 1365s 137ms/step - loss: 0.0041 - acc: 0.9991 - val_loss: 0.0418 - val_acc: 0.9939\n",
      "Epoch 30/30\n",
      "10000/10000 [==============================] - 1366s 137ms/step - loss: 0.0042 - acc: 0.9991 - val_loss: 0.0385 - val_acc: 0.9943\n",
      "Training done\n"
     ]
    }
   ],
   "source": [
    "classifier.fit_generator(training_set,\n",
    "                         steps_per_epoch = 10000,\n",
    "                         epochs = 30,\n",
    "                         validation_data = test_set,\n",
    "                         validation_steps = 4000,)\n",
    "print(\"Training done\")"
   ]
  },
  {
   "cell_type": "code",
   "execution_count": 2,
   "metadata": {},
   "outputs": [
    {
     "name": "stdout",
     "output_type": "stream",
     "text": [
      "Saved model to disk............\n"
     ]
    }
   ],
   "source": [
    "classifier.save(\"classifier.h5c\")\n",
    "classifier.save(\"classifier.h5\")\n",
    "print(\"Saved model to disk............\")"
   ]
  },
  {
   "cell_type": "code",
   "execution_count": null,
   "metadata": {},
   "outputs": [],
   "source": [
    "#Testing"
   ]
  },
  {
   "cell_type": "code",
   "execution_count": null,
   "metadata": {},
   "outputs": [],
   "source": [
    "import numpy as np\n",
    "from keras.preprocessing import image"
   ]
  },
  {
   "cell_type": "code",
   "execution_count": 21,
   "metadata": {},
   "outputs": [
    {
     "name": "stdout",
     "output_type": "stream",
     "text": [
      "{'healthy': 0, 'infected': 1}\n",
      "healthy leaf\n",
      "{'healthy': 0, 'infected': 1}\n",
      "infected leaf\n"
     ]
    }
   ],
   "source": [
    "test_image = image.load_img('dataset/single_prediction/healthy.jpg', target_size = (64, 64))\n",
    "test_image = image.img_to_array(test_image)\n",
    "test_image = np.expand_dims(test_image, axis = 0)\n",
    "result = classifier.predict(test_image)\n",
    "print(training_set.class_indices)\n",
    "if result[0][0] == 1:\n",
    "    print('infected leaf')\n",
    "else:\n",
    "    print('healthy leaf')\n",
    "test_image = image.load_img('dataset/single_prediction/infected.jpg', target_size = (64, 64))\n",
    "test_image = image.img_to_array(test_image)\n",
    "test_image = np.expand_dims(test_image, axis = 0)\n",
    "result = classifier.predict(test_image)\n",
    "print(training_set.class_indices)\n",
    "if result[0][0] == 1:\n",
    "    print('infected leaf')\n",
    "else:\n",
    "    print('healthy leaf')\n"
   ]
  }
 ],
 "metadata": {
  "kernelspec": {
   "display_name": "Python 3",
   "language": "python",
   "name": "python3"
  },
  "language_info": {
   "codemirror_mode": {
    "name": "ipython",
    "version": 3
   },
   "file_extension": ".py",
   "mimetype": "text/x-python",
   "name": "python",
   "nbconvert_exporter": "python",
   "pygments_lexer": "ipython3",
   "version": "3.7.1"
  }
 },
 "nbformat": 4,
 "nbformat_minor": 2
}
